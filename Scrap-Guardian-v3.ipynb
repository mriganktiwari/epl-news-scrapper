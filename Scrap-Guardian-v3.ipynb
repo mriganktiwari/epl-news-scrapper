{
 "cells": [
  {
   "cell_type": "code",
   "execution_count": 6,
   "metadata": {},
   "outputs": [],
   "source": [
    "# !pip install pandas"
   ]
  },
  {
   "cell_type": "code",
   "execution_count": 5,
   "metadata": {},
   "outputs": [],
   "source": [
    "import urllib.request,sys,time\n",
    "from bs4 import BeautifulSoup\n",
    "import requests\n",
    "import pandas as pd"
   ]
  },
  {
   "cell_type": "code",
   "execution_count": 10,
   "metadata": {},
   "outputs": [
    {
     "name": "stdout",
     "output_type": "stream",
     "text": [
      "processing page : 1\n",
      "processing page : 2\n",
      "processing page : 3\n"
     ]
    }
   ],
   "source": [
    "pagesToGet= 3\n",
    "\n",
    "upperframe=[]\n",
    "Link=[]\n",
    "for page in range(1,pagesToGet+1):\n",
    "    print('processing page :', page)\n",
    "    url = 'https://www.theguardian.com/football/premierleague+tone/matchreports?page='+str(page)\n",
    "#     print(url)\n",
    "    \n",
    "    #an exception might be thrown, so the code should be in a try-except block\n",
    "    try:\n",
    "        #use the browser to get the url. This is suspicious command that might blow up.\n",
    "        page=requests.get(url)                             # this might throw an exception if something goes wrong.\n",
    "    \n",
    "    except Exception as e:                                   # this describes what to do if an exception is thrown\n",
    "        error_type, error_obj, error_info = sys.exc_info()      # get the exception information\n",
    "        print ('ERROR FOR LINK:',url)                          #print the link that cause the problem\n",
    "        print (error_type, 'Line:', error_info.tb_lineno)     #print error info and line that threw the exception\n",
    "        continue                                              #ignore this page. Abandon this and go back.\n",
    "    time.sleep(2)   \n",
    "    soup=BeautifulSoup(page.text,'html.parser')\n",
    "    links = soup.find_all('h3',attrs={'class':'fc-item__title'})\n",
    "    for l in links:\n",
    "        Link.append(l.find('a')['href'].strip())"
   ]
  },
  {
   "cell_type": "code",
   "execution_count": 11,
   "metadata": {
    "scrolled": true
   },
   "outputs": [
    {
     "data": {
      "text/plain": [
       "['https://www.theguardian.com/football/2021/jan/21/liverpool-burnley-premier-league-match-report',\n",
       " 'https://www.theguardian.com/football/2021/jan/20/fulham-manchester-united-premier-league-match-report',\n",
       " 'https://www.theguardian.com/football/2021/jan/20/manchester-city-aston-villa-premier-league-match-report',\n",
       " 'https://www.theguardian.com/football/2021/jan/19/leicester-city-chelsea-premier-league-match-report',\n",
       " 'https://www.theguardian.com/football/2021/jan/19/west-ham-united-west-bromwich-albion-premier-league-match-report',\n",
       " 'https://www.theguardian.com/football/2021/jan/18/arsenal-newcastle-united-premier-league-match-report',\n",
       " 'https://www.theguardian.com/football/2021/jan/17/manchester-city-crystal-palace-premier-league-match-report',\n",
       " 'https://www.theguardian.com/football/2021/jan/17/manchester-united-liverpool-premier-league-match-report',\n",
       " 'https://www.theguardian.com/football/2021/jan/17/sheffield-united-tottenham-premier-league-match-report',\n",
       " 'https://www.theguardian.com/football/2021/jan/16/leicester-up-to-second-as-james-maddison-sets-up-win-over-southampton',\n",
       " 'https://www.theguardian.com/football/2021/jan/16/fulham-chelsea-premier-league-match-report',\n",
       " 'https://www.theguardian.com/football/2021/jan/16/west-ham-burnley-premier-league-match-report',\n",
       " 'https://www.theguardian.com/football/2021/jan/16/leeds-brighton-premier-league-match-report',\n",
       " 'https://www.theguardian.com/football/2021/jan/16/wolves-west-brom-premier-league-match-report',\n",
       " 'https://www.theguardian.com/football/2021/jan/14/arsenal-crystal-palace-premier-league-match-report',\n",
       " 'https://www.theguardian.com/football/2021/jan/13/tottenham-hotspur-fulham-premier-league-match-report',\n",
       " 'https://www.theguardian.com/football/2021/jan/13/manchester-city-brighton-premier-league-match-report',\n",
       " 'https://www.theguardian.com/football/2021/jan/12/burnley-manchester-united-premier-league-match-report',\n",
       " 'https://www.theguardian.com/football/2021/jan/12/wolves-everton-premier-league-match-report',\n",
       " 'https://www.theguardian.com/football/2021/jan/12/sheffield-united-win-at-last-as-billy-sharp-penalty-sinks-10-man-newcastle',\n",
       " 'https://www.theguardian.com/football/2021/jan/04/southampton-liverpool-premier-league-match-report',\n",
       " 'https://www.theguardian.com/football/2021/jan/03/chelsea-manchester-city-premier-league-match-report',\n",
       " 'https://www.theguardian.com/football/2021/jan/03/newcastle-united-leicester-city-premier-league-match-report',\n",
       " 'https://www.theguardian.com/football/2021/jan/02/west-bromwich-albion-arsenal-premier-league-match-report',\n",
       " 'https://www.theguardian.com/football/2021/jan/02/brighton-wolves-premier-league-match-report',\n",
       " 'https://www.theguardian.com/football/2021/jan/02/crystal-palace-sheffield-united-premier-league-match-report',\n",
       " 'https://www.theguardian.com/football/2021/jan/02/tottenham-leeds-premier-league-match-report',\n",
       " 'https://www.theguardian.com/football/2021/jan/01/bruno-fernandes-fires-manchester-united-joint-top-after-aston-villa-win',\n",
       " 'https://www.theguardian.com/football/2021/jan/01/tomas-soucek-leaves-it-late-as-west-ham-stun-lacklustre-everton',\n",
       " 'https://www.theguardian.com/football/2020/dec/30/newcastle-united-liverpool-premier-league-match-report',\n",
       " 'https://www.theguardian.com/football/2020/dec/29/manchester-united-wolves-premier-league-match-report',\n",
       " 'https://www.theguardian.com/football/2020/dec/29/burnley-sheffield-united-premier-league-match-report',\n",
       " 'https://www.theguardian.com/football/2020/dec/29/west-bromwich-albion-leeds-united-premier-league-match-report',\n",
       " 'https://www.theguardian.com/football/2020/dec/29/brighton-arsenal-premier-league-match-report',\n",
       " 'https://www.theguardian.com/football/2020/dec/29/southampton-west-ham-united-premier-league-match-report',\n",
       " 'https://www.theguardian.com/football/2020/dec/28/chelsea-aston-villa-premier-league-match-report',\n",
       " 'https://www.theguardian.com/football/2020/dec/28/crystal-palace-leicester-city-premier-league-match-report',\n",
       " 'https://www.theguardian.com/football/2020/dec/27/wolves-tottenham-premier-league-match-report',\n",
       " 'https://www.theguardian.com/football/2020/dec/27/liverpool-west-brom-premier-league-match-report',\n",
       " 'https://www.theguardian.com/football/2020/dec/27/west-ham-brighton-premier-league-match-report',\n",
       " 'https://www.theguardian.com/football/2020/dec/27/leeds-burnley-premier-league-match-report',\n",
       " 'https://www.theguardian.com/football/2020/dec/26/sheffield-united-everton-premier-league-match-report',\n",
       " 'https://www.theguardian.com/football/2020/dec/26/manchester-city-newcastle-premier-league-match-report',\n",
       " 'https://www.theguardian.com/football/2020/dec/26/arsenal-chelsea-premier-league-match-report',\n",
       " 'https://www.theguardian.com/football/2020/dec/26/fulham-southampton-premier-league-match-report',\n",
       " 'https://www.theguardian.com/football/2020/dec/26/aston-villa-crystal-palace-premier-league-match-report',\n",
       " 'https://www.theguardian.com/football/2020/dec/26/leicester-manchester-united-premier-league-match-report',\n",
       " 'https://www.theguardian.com/football/2020/dec/21/burnley-wolves-premier-league-match-report',\n",
       " 'https://www.theguardian.com/football/2020/dec/21/chelsea-west-ham-united-premier-league-match-report',\n",
       " 'https://www.theguardian.com/football/2020/dec/20/west-brom-aston-villa-premier-league-match-report',\n",
       " 'https://www.theguardian.com/football/2020/dec/20/manchester-united-leeds-premier-league-match-report',\n",
       " 'https://www.theguardian.com/football/2020/dec/20/tottenham-leicester-premier-league-match-report',\n",
       " 'https://www.theguardian.com/football/2020/dec/20/brighton-sheffield-united-premier-league-match-report',\n",
       " 'https://www.theguardian.com/football/2020/dec/19/newcastle-fulham-premier-league-match-report',\n",
       " 'https://www.theguardian.com/football/2020/dec/19/everton-arsenal-premier-league-match-report',\n",
       " 'https://www.theguardian.com/football/2020/dec/19/southampton-manchester-city-premier-league-match-report',\n",
       " 'https://www.theguardian.com/football/2020/dec/19/crystal-palace-liverpool-premier-league-match-report',\n",
       " 'https://www.theguardian.com/football/2020/dec/17/sheffield-united-manchester-united-premier-league-match-report',\n",
       " 'https://www.theguardian.com/football/2020/dec/17/aston-villa-burnley-premier-league-match-report',\n",
       " 'https://www.theguardian.com/football/2020/dec/16/fulham-brighton-hove-albion-premier-league-match-report']"
      ]
     },
     "execution_count": 11,
     "metadata": {},
     "output_type": "execute_result"
    }
   ],
   "source": [
    "# Link = Link[:381]\n",
    "Link"
   ]
  },
  {
   "cell_type": "code",
   "execution_count": 12,
   "metadata": {},
   "outputs": [
    {
     "data": {
      "text/plain": [
       "60"
      ]
     },
     "execution_count": 12,
     "metadata": {},
     "output_type": "execute_result"
    }
   ],
   "source": [
    "len(Link)"
   ]
  },
  {
   "cell_type": "markdown",
   "metadata": {},
   "source": [
    "## Parsing entire 20 page of articles"
   ]
  },
  {
   "cell_type": "code",
   "execution_count": 13,
   "metadata": {},
   "outputs": [],
   "source": [
    "data = dict()"
   ]
  },
  {
   "cell_type": "code",
   "execution_count": 14,
   "metadata": {},
   "outputs": [
    {
     "name": "stdout",
     "output_type": "stream",
     "text": [
      "Number of links::  60\n",
      "Keys length:  9\n",
      "Number of links::  51\n",
      "Keys length:  12\n",
      "Number of links::  48\n",
      "Keys length:  15\n",
      "Number of links::  45\n",
      "Keys length:  21\n",
      "Number of links::  39\n",
      "Keys length:  26\n",
      "Number of links::  34\n",
      "Keys length:  29\n",
      "Number of links::  31\n",
      "Keys length:  32\n",
      "Number of links::  28\n",
      "Keys length:  36\n",
      "Number of links::  24\n",
      "Keys length:  39\n",
      "Number of links::  21\n",
      "Keys length:  41\n",
      "Number of links::  19\n",
      "Keys length:  41\n",
      "Number of links::  19\n",
      "Keys length:  42\n",
      "Number of links::  18\n",
      "Keys length:  45\n",
      "Number of links::  15\n",
      "Keys length:  47\n",
      "Number of links::  13\n",
      "Keys length:  47\n",
      "Number of links::  13\n",
      "Keys length:  47\n",
      "Number of links::  13\n",
      "Keys length:  49\n",
      "Number of links::  11\n",
      "Keys length:  50\n",
      "Number of links::  10\n",
      "Keys length:  51\n",
      "Number of links::  9\n",
      "Keys length:  53\n",
      "Number of links::  7\n",
      "Keys length:  54\n",
      "Number of links::  6\n",
      "Keys length:  55\n",
      "Number of links::  5\n",
      "Keys length:  55\n",
      "Number of links::  5\n",
      "Keys length:  55\n",
      "Number of links::  5\n",
      "Keys length:  55\n",
      "Number of links::  5\n",
      "Keys length:  55\n",
      "Number of links::  5\n",
      "Keys length:  55\n",
      "Number of links::  5\n",
      "Keys length:  55\n",
      "Number of links::  5\n",
      "Keys length:  55\n",
      "Number of links::  5\n",
      "Keys length:  55\n",
      "Number of links::  5\n",
      "Keys length:  55\n",
      "Number of links::  5\n",
      "Keys length:  56\n",
      "Number of links::  4\n",
      "Keys length:  56\n",
      "Number of links::  4\n",
      "Keys length:  56\n",
      "Number of links::  4\n",
      "Keys length:  56\n",
      "Number of links::  4\n",
      "Keys length:  56\n",
      "Number of links::  4\n",
      "Keys length:  56\n",
      "Number of links::  4\n",
      "Keys length:  56\n",
      "Number of links::  4\n",
      "Keys length:  56\n",
      "Number of links::  4\n",
      "Keys length:  57\n",
      "Number of links::  3\n",
      "Keys length:  57\n",
      "Number of links::  3\n",
      "Keys length:  58\n",
      "Number of links::  2\n",
      "Keys length:  58\n",
      "Number of links::  2\n",
      "Keys length:  58\n",
      "Number of links::  2\n",
      "Keys length:  58\n",
      "Number of links::  2\n",
      "Keys length:  58\n",
      "Number of links::  2\n",
      "Keys length:  58\n",
      "Number of links::  2\n",
      "Keys length:  58\n",
      "Number of links::  2\n",
      "Keys length:  58\n",
      "Number of links::  2\n",
      "Keys length:  59\n",
      "Number of links::  1\n",
      "Keys length:  59\n",
      "Number of links::  1\n",
      "Keys length:  59\n",
      "Number of links::  1\n",
      "Keys length:  59\n",
      "Number of links::  1\n",
      "Keys length:  59\n",
      "Number of links::  1\n",
      "Keys length:  59\n",
      "Number of links::  1\n",
      "Keys length:  59\n",
      "Number of links::  1\n",
      "Keys length:  60\n"
     ]
    }
   ],
   "source": [
    "# title = []\n",
    "# body = []\n",
    "# league = []\n",
    "# team_home = []\n",
    "# team_away = []\n",
    "# news_type = []\n",
    "# stadium = []\n",
    "# datePublished = []\n",
    "while len(data.keys()) < 60:\n",
    "    print(\"Number of links:: \", len(Link))\n",
    "    \n",
    "    for i, url in enumerate(Link):\n",
    "        \n",
    "        team_home = []\n",
    "        team_away = []\n",
    "        \n",
    "        page = requests.get(url)\n",
    "        soup1 = BeautifulSoup(page.text, \"html.parser\")    \n",
    "        \n",
    "        data_dict = dict()\n",
    "\n",
    "        if soup1.find('div', attrs={'class':'content__article-body from-content-api js-article__body'}) != None:\n",
    "#             submeta = soup1.find('div', attrs={'class':'content__article-body from-content-api js-article__body'}).find_all('a', attrs={'class':'submeta__link'})\n",
    "            submeta = soup1.find('div', attrs={'class':'submeta__keywords'}).find_all('a', attrs={'class':'submeta__link'})\n",
    "            team_home =  submeta[0].text.strip()\n",
    "            team_away =  submeta[1].text.strip()\n",
    "\n",
    "#             if len(submeta) < 4:\n",
    "#                 break\n",
    "#             elif len(submeta) == 4:\n",
    "#                 team_home = submeta[1].text.strip()\n",
    "#                 team_away = submeta[2].text.strip()\n",
    "#             else:\n",
    "#                 team_home = submeta[2].text.strip()\n",
    "#                 team_away = submeta[3].text.strip()\n",
    "            \n",
    "            key = '_' + team_home + '_' + team_away\n",
    "            key = key.replace('&', 'and')\n",
    "            data_dict['link'] = url\n",
    "            data_dict['Home team'] = team_home\n",
    "            data_dict['Away team'] = team_away\n",
    "#             data_dict['League'] = submeta[0].text.strip()\n",
    "#             data_dict['Match report'] = submeta[0].text.strip()\n",
    "            data_dict['Title'] = soup1.find('h1', attrs={'class':'content__headline'}).text.strip()\n",
    "\n",
    "            content_body = soup1.find('div', attrs={'class':'content__article-body from-content-api js-article__body'}).find_all('p')\n",
    "            body_para = []\n",
    "            for content in content_body:\n",
    "                body_para.append(content.text.strip())\n",
    "            data_dict['Body'] = body_para\n",
    "\n",
    "        #     stadium.append(soup1.find('p', attrs={'class':'byline'}).text.strip().split(' at ')[1])\n",
    "            data_dict['datePublished'] = soup1.find('time').text.strip()\n",
    "            \n",
    "            data[key] = data_dict\n",
    "            Link.remove(url)\n",
    "    print(\"Keys length: \", len(data.keys()))\n",
    "#         else:\n",
    "#             print(\"Link numbers skipped: \", i)\n",
    "#             continue\n"
   ]
  },
  {
   "cell_type": "code",
   "execution_count": 15,
   "metadata": {},
   "outputs": [
    {
     "data": {
      "text/plain": [
       "60"
      ]
     },
     "execution_count": 15,
     "metadata": {},
     "output_type": "execute_result"
    }
   ],
   "source": [
    "len(data.keys())"
   ]
  },
  {
   "cell_type": "markdown",
   "metadata": {},
   "source": [
    "## Parsing single article"
   ]
  },
  {
   "cell_type": "code",
   "execution_count": 8,
   "metadata": {},
   "outputs": [],
   "source": [
    "# Link[6]"
   ]
  },
  {
   "cell_type": "code",
   "execution_count": 9,
   "metadata": {},
   "outputs": [],
   "source": [
    "# page = requests.get(Link[0])\n",
    "# soup1 = BeautifulSoup(page.text, \"html.parser\")"
   ]
  },
  {
   "cell_type": "code",
   "execution_count": 10,
   "metadata": {},
   "outputs": [],
   "source": [
    "# soup1"
   ]
  },
  {
   "cell_type": "code",
   "execution_count": 11,
   "metadata": {},
   "outputs": [],
   "source": [
    "# title = soup1.find('h1', attrs={'class':'content__headline'}).text.strip()\n",
    "# title"
   ]
  },
  {
   "cell_type": "code",
   "execution_count": 12,
   "metadata": {},
   "outputs": [],
   "source": [
    "# body=[]"
   ]
  },
  {
   "cell_type": "code",
   "execution_count": 13,
   "metadata": {},
   "outputs": [],
   "source": [
    "# content_body = soup1.find('div', attrs={'class':'content__article-body from-content-api js-article__body'}).find_all('p')\n",
    "# # body = content_body.find_all('p')"
   ]
  },
  {
   "cell_type": "code",
   "execution_count": 14,
   "metadata": {},
   "outputs": [],
   "source": [
    "# for content in content_body:\n",
    "#     body.append(content.text.strip())"
   ]
  },
  {
   "cell_type": "code",
   "execution_count": 15,
   "metadata": {},
   "outputs": [],
   "source": [
    "# body"
   ]
  },
  {
   "cell_type": "code",
   "execution_count": 16,
   "metadata": {},
   "outputs": [],
   "source": [
    "# league = []\n",
    "# team_home = []\n",
    "# team_away = []\n",
    "# news_type = []\n",
    "# stadium = []\n",
    "# datePublished = []"
   ]
  },
  {
   "cell_type": "code",
   "execution_count": 17,
   "metadata": {},
   "outputs": [],
   "source": [
    "# submeta = soup1.find('div', attrs={'class':'content__article-body from-content-api js-article__body'}).find_all('a', attrs={'class':'submeta__link'})\n",
    "# soup1.find('div', attrs={'class':'content__article-body from-content-api js-article__body'}) == None"
   ]
  },
  {
   "cell_type": "code",
   "execution_count": 18,
   "metadata": {},
   "outputs": [],
   "source": [
    "# submeta"
   ]
  },
  {
   "cell_type": "code",
   "execution_count": 19,
   "metadata": {},
   "outputs": [],
   "source": [
    "# league.append(submeta[0].text.strip())\n",
    "# team_home.append(submeta[1].text.strip())\n",
    "# team_away.append(submeta[2].text.strip())\n",
    "# news_type.append(submeta[3].text.strip())"
   ]
  },
  {
   "cell_type": "code",
   "execution_count": 20,
   "metadata": {},
   "outputs": [],
   "source": [
    "# league, team_home, team_away, news_type"
   ]
  },
  {
   "cell_type": "code",
   "execution_count": 21,
   "metadata": {},
   "outputs": [],
   "source": [
    "# # stadium.append(soup1.find('p', attrs={'class':'byline'}).text.strip().split(' at the ')[1])\n",
    "# soup1.find('p', attrs={'class':'byline'}).text.strip()#.split(' at ')[1]\n",
    "# # stadium"
   ]
  },
  {
   "cell_type": "code",
   "execution_count": 22,
   "metadata": {},
   "outputs": [],
   "source": [
    "# datePublished.append(soup1.find('time').text.strip())\n",
    "# datePublished"
   ]
  },
  {
   "cell_type": "markdown",
   "metadata": {},
   "source": [
    "## Writing the data into json"
   ]
  },
  {
   "cell_type": "code",
   "execution_count": 23,
   "metadata": {},
   "outputs": [],
   "source": [
    "# d = {'title': title, 'Article': body, 'News type': news_type, 'League': league, 'Home team': team_home, 'Away team': team_away, 'Link': Link, 'Published date': datePublished}"
   ]
  },
  {
   "cell_type": "code",
   "execution_count": 24,
   "metadata": {},
   "outputs": [],
   "source": [
    "# df = pd.DataFrame(list(zip(title, body, news_type, league, team_home, team_away, Link, datePublished)),\n",
    "#                   columns =['title', 'Article', 'News type', 'League', 'Home team', 'Away team', 'Link', 'Published date'])"
   ]
  },
  {
   "cell_type": "code",
   "execution_count": 25,
   "metadata": {},
   "outputs": [],
   "source": [
    "# df"
   ]
  },
  {
   "cell_type": "code",
   "execution_count": 26,
   "metadata": {},
   "outputs": [],
   "source": [
    "# import json\n",
    "\n",
    "# with open('articles_EPL19-20_season-v3.json', 'w') as f:\n",
    "#     json.dump(data, f)"
   ]
  },
  {
   "cell_type": "code",
   "execution_count": 17,
   "metadata": {},
   "outputs": [],
   "source": [
    "import json\n",
    "\n",
    "with open('articles_EPL-20-21_season.json', 'w') as f:\n",
    "    json.dump(data, f)"
   ]
  },
  {
   "cell_type": "code",
   "execution_count": null,
   "metadata": {},
   "outputs": [],
   "source": []
  }
 ],
 "metadata": {
  "kernelspec": {
   "display_name": "Python 3",
   "language": "python",
   "name": "python3"
  },
  "language_info": {
   "codemirror_mode": {
    "name": "ipython",
    "version": 3
   },
   "file_extension": ".py",
   "mimetype": "text/x-python",
   "name": "python",
   "nbconvert_exporter": "python",
   "pygments_lexer": "ipython3",
   "version": "3.8.3"
  }
 },
 "nbformat": 4,
 "nbformat_minor": 4
}
